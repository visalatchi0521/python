{
 "cells": [
  {
   "cell_type": "code",
   "execution_count": 35,
   "metadata": {},
   "outputs": [
    {
     "data": {
      "text/plain": [
       "'ab'"
      ]
     },
     "execution_count": 35,
     "metadata": {},
     "output_type": "execute_result"
    }
   ],
   "source": [
    "#Longest Substring with At Least K Repeating Characters\n",
    "import collections\n",
    "str1=\"abaabb\"\n",
    "k=3\n",
    "cnt=collections.Counter(str1)\n",
    "filters=[x for x in cnt if cnt[x]>=k]\n",
    "for i in range(len(filters)):\n",
    "    "
   ]
  },
  {
   "cell_type": "code",
   "execution_count": 34,
   "metadata": {},
   "outputs": [
    {
     "data": {
      "text/plain": [
       "'babb'"
      ]
     },
     "execution_count": 34,
     "metadata": {},
     "output_type": "execute_result"
    }
   ],
   "source": [
    "str1[str1.find(m):str1.rfind(m)+1]"
   ]
  },
  {
   "cell_type": "code",
   "execution_count": 42,
   "metadata": {},
   "outputs": [
    {
     "name": "stdout",
     "output_type": "stream",
     "text": [
      "3\n"
     ]
    }
   ],
   "source": [
    "#Minimum number of squares whose sum equals to given number n\n",
    "def minsquare(n):\n",
    "    if n<=3:\n",
    "        return n\n",
    "    res=n\n",
    "    for i in range(1,n+1):\n",
    "        temp=i*i\n",
    "        if temp>n:\n",
    "            break\n",
    "        else:\n",
    "            res=min(res,1+minsquare(n-temp))\n",
    "    return res;\n",
    "print(minsquare(6))"
   ]
  },
  {
   "cell_type": "code",
   "execution_count": 45,
   "metadata": {},
   "outputs": [
    {
     "data": {
      "text/plain": [
       "2"
      ]
     },
     "execution_count": 45,
     "metadata": {},
     "output_type": "execute_result"
    }
   ],
   "source": [
    "#Frequency of a substring in a string\n",
    "txt = \"dhimanman\"\n",
    "pat = \"man\"\n",
    "txt.count(pat)"
   ]
  },
  {
   "cell_type": "code",
   "execution_count": 55,
   "metadata": {},
   "outputs": [
    {
     "name": "stdout",
     "output_type": "stream",
     "text": [
      "0\n"
     ]
    }
   ],
   "source": [
    "M=len(txt)\n",
    "N=len(pat)\n",
    "res=0\n",
    "for i in range(M-N+1):\n",
    "    j=0\n",
    "    for j in range(N):\n",
    "        if(txt[i+j]!=pat[j]):\n",
    "            break\n",
    "        if j==M-1:\n",
    "            res+=1\n",
    "            j=0\n",
    "print(res)\n",
    "        "
   ]
  },
  {
   "cell_type": "code",
   "execution_count": 58,
   "metadata": {},
   "outputs": [
    {
     "name": "stdout",
     "output_type": "stream",
     "text": [
      "10043\n"
     ]
    }
   ],
   "source": [
    "#Smallest K digit number divisible by X\n",
    "X = 83\n",
    "K = 5\n",
    "MIN=pow(10,K-1)\n",
    "if MIN%X==0:\n",
    "    print(MIN)\n",
    "else:\n",
    "    MIN=MIN+X-(MIN+X)%X\n",
    "    print(MIN)\n"
   ]
  },
  {
   "cell_type": "code",
   "execution_count": 61,
   "metadata": {},
   "outputs": [
    {
     "name": "stdout",
     "output_type": "stream",
     "text": [
      "5\n"
     ]
    }
   ],
   "source": [
    "# Numbers With Repeated Digits\n",
    "X=60\n",
    "i=1\n",
    "cnt=0\n",
    "while i<=X:\n",
    "    if i%10==i//10:\n",
    "        cnt+=1\n",
    "    i+=1\n",
    "print(cnt)\n"
   ]
  },
  {
   "cell_type": "code",
   "execution_count": 86,
   "metadata": {},
   "outputs": [
    {
     "name": "stdout",
     "output_type": "stream",
     "text": [
      "g\n",
      "e\n",
      "k\n"
     ]
    }
   ],
   "source": [
    "#Find Common Characters\n",
    "X=['geeks','gemk']\n",
    "import collections\n",
    "cnt=collections.Counter(X[0])\n",
    "for i in range(1,len(X)):\n",
    "    cnt&=collections.Counter(X[i])\n",
    "for key,values in cnt.items():\n",
    "    print(key)"
   ]
  },
  {
   "cell_type": "code",
   "execution_count": 137,
   "metadata": {},
   "outputs": [
    {
     "name": "stdout",
     "output_type": "stream",
     "text": [
      "[9, 18] [24]\n"
     ]
    }
   ],
   "source": [
    "# Substring with Concatenation of All Words\n",
    "import re\n",
    "s = \"barfoothefoobarmanfoobarraboof\"\n",
    "words = [\"foo\",\"bar\"]\n",
    "w=''\n",
    "w=w.join(words)\n",
    "print(list(m.start() for m in re.finditer(w,s)),list(m.start() for m in re.finditer(w[::-1],s)))\n",
    "\n"
   ]
  },
  {
   "cell_type": "code",
   "execution_count": 123,
   "metadata": {},
   "outputs": [
    {
     "data": {
      "text/plain": [
       "[3, 9, 18]"
      ]
     },
     "execution_count": 123,
     "metadata": {},
     "output_type": "execute_result"
    }
   ],
   "source": [
    "# finding start positions for all substrings in string \n",
    "s=\"barfoothefoobarmanfoobar\"\n",
    "import re\n",
    "x=\"foo\"\n",
    "list(m.start() for m in re.finditer(x,s))"
   ]
  },
  {
   "cell_type": "code",
   "execution_count": 139,
   "metadata": {},
   "outputs": [
    {
     "name": "stdout",
     "output_type": "stream",
     "text": [
      "[(1, 2), (1, 3), (2, 3)]\n"
     ]
    }
   ],
   "source": [
    "#printing combinations of list\n",
    "import itertools\n",
    "words = [1,2,3]\n",
    "print(list(itertools.combinations(words,2)))\n"
   ]
  },
  {
   "cell_type": "code",
   "execution_count": 141,
   "metadata": {},
   "outputs": [
    {
     "name": "stdout",
     "output_type": "stream",
     "text": [
      "[()]\n",
      "[(1,), (2,), (3,)]\n",
      "[(1, 2), (1, 3), (2, 3)]\n",
      "[(1, 2, 3)]\n"
     ]
    }
   ],
   "source": [
    "for i in range(len(words)+1):\n",
    "    print(list(itertools.combinations(words,i)))"
   ]
  },
  {
   "cell_type": "code",
   "execution_count": 156,
   "metadata": {},
   "outputs": [
    {
     "data": {
      "text/plain": [
       "{''}"
      ]
     },
     "execution_count": 156,
     "metadata": {},
     "output_type": "execute_result"
    }
   ],
   "source": [
    "s='world'\n",
    "a=set()\n",
    "w=\"\"\n",
    "for i in range(len(s)):\n",
    "    for j in range(i):\n",
    "        \n",
    "        a.add(s[i:j])\n",
    "a\n"
   ]
  },
  {
   "cell_type": "code",
   "execution_count": 53,
   "metadata": {},
   "outputs": [
    {
     "name": "stdout",
     "output_type": "stream",
     "text": [
      " eek\n",
      "g ek\n",
      "ge k\n",
      "gee \n"
     ]
    }
   ],
   "source": [
    "#Given a string s, partition s such that every substring of the partition is a palindrome.\n",
    "s='geek'\n",
    "i=0\n",
    "j=len(s)\n",
    "for k in range(i,j):\n",
    "    print(s[i:k],s[k+1:j])\n",
    "    "
   ]
  },
  {
   "cell_type": "code",
   "execution_count": 42,
   "metadata": {},
   "outputs": [
    {
     "data": {
      "text/plain": [
       "3"
      ]
     },
     "execution_count": 42,
     "metadata": {},
     "output_type": "execute_result"
    }
   ],
   "source": [
    "s='ababbbabbababa'\n",
    "i=0\n",
    "j=len(s)\n",
    "def isPalindrome(x): \n",
    "    return x == x[::-1]\n",
    "def minPalPartion(string, i, j): \n",
    "    if i >= j or isPalindrome(string[i:j + 1]): \n",
    "        return 0\n",
    "    ans = float('inf') \n",
    "    for k in range(i, j): \n",
    "        count = ( \n",
    "            1 + minPalPartion(string, i, k) \n",
    "            + minPalPartion(string, k + 1, j) \n",
    "        ) \n",
    "        ans = min(ans, count) \n",
    "    return ans \n",
    "minPalPartion(s, i, j)"
   ]
  },
  {
   "cell_type": "code",
   "execution_count": 64,
   "metadata": {},
   "outputs": [],
   "source": [
    "#Given a string, print all possible palindromic partitions\n",
    "s='nitin'\n",
    "i=0\n",
    "j=len(s)\n",
    "while i<=j:\n",
    "    for k in range(i+1,j+1):\n",
    "        if(s[i:k]==s[i:k:-1]):\n",
    "            print(s[i:k])\n",
    "    i+=1\n",
    "    \n",
    "        "
   ]
  },
  {
   "cell_type": "code",
   "execution_count": null,
   "metadata": {},
   "outputs": [],
   "source": [
    "#Count distinct occurrences as a subsequence"
   ]
  }
 ],
 "metadata": {
  "kernelspec": {
   "display_name": "Python 3",
   "language": "python",
   "name": "python3"
  },
  "language_info": {
   "codemirror_mode": {
    "name": "ipython",
    "version": 3
   },
   "file_extension": ".py",
   "mimetype": "text/x-python",
   "name": "python",
   "nbconvert_exporter": "python",
   "pygments_lexer": "ipython3",
   "version": "3.6.5"
  }
 },
 "nbformat": 4,
 "nbformat_minor": 2
}
