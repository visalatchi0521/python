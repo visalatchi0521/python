{
 "cells": [
  {
   "cell_type": "code",
   "execution_count": 2,
   "metadata": {},
   "outputs": [],
   "source": [
    "import pandas as pd\n",
    "import numpy as np\n",
    "import time\n"
   ]
  },
  {
   "cell_type": "code",
   "execution_count": 6,
   "metadata": {},
   "outputs": [],
   "source": [
    "CITY_DATA = { 'chicago': 'chicago.csv',\n",
    "              'new york city': 'new_york_city.csv',\n",
    "              'washington': 'washington.csv' }"
   ]
  },
  {
   "cell_type": "code",
   "execution_count": 8,
   "metadata": {},
   "outputs": [
    {
     "ename": "SyntaxError",
     "evalue": "invalid syntax (<ipython-input-8-447716c0af13>, line 1)",
     "output_type": "error",
     "traceback": [
      "\u001b[1;36m  File \u001b[1;32m\"<ipython-input-8-447716c0af13>\"\u001b[1;36m, line \u001b[1;32m1\u001b[0m\n\u001b[1;33m    type 'str'>\u001b[0m\n\u001b[1;37m             ^\u001b[0m\n\u001b[1;31mSyntaxError\u001b[0m\u001b[1;31m:\u001b[0m invalid syntax\n"
     ]
    }
   ],
   "source": [
    "type 'str'>\n",
    "city=raw_input(\"Enter the city you are interested in\")\n",
    "type(city)"
   ]
  },
  {
   "cell_type": "code",
   "execution_count": 4,
   "metadata": {},
   "outputs": [
    {
     "ename": "NameError",
     "evalue": "name 'city' is not defined",
     "output_type": "error",
     "traceback": [
      "\u001b[1;31m---------------------------------------------------------------------------\u001b[0m",
      "\u001b[1;31mNameError\u001b[0m                                 Traceback (most recent call last)",
      "\u001b[1;32m<ipython-input-4-ed5401274cf5>\u001b[0m in \u001b[0;36m<module>\u001b[1;34m()\u001b[0m\n\u001b[1;32m----> 1\u001b[1;33m \u001b[0mdf\u001b[0m\u001b[1;33m=\u001b[0m\u001b[0mpd\u001b[0m\u001b[1;33m.\u001b[0m\u001b[0mread_csv\u001b[0m\u001b[1;33m(\u001b[0m\u001b[0mCITY_DATA\u001b[0m\u001b[1;33m[\u001b[0m\u001b[0mcity\u001b[0m\u001b[1;33m]\u001b[0m\u001b[1;33m)\u001b[0m\u001b[1;33m\u001b[0m\u001b[0m\n\u001b[0m\u001b[0;32m      2\u001b[0m \u001b[0mdf\u001b[0m\u001b[1;33m.\u001b[0m\u001b[0mhead\u001b[0m\u001b[1;33m(\u001b[0m\u001b[1;33m)\u001b[0m\u001b[1;33m\u001b[0m\u001b[0m\n",
      "\u001b[1;31mNameError\u001b[0m: name 'city' is not defined"
     ]
    }
   ],
   "source": [
    "df=pd.read_csv(CITY_DATA[city])\n",
    "df.head()"
   ]
  },
  {
   "cell_type": "code",
   "execution_count": 2,
   "metadata": {},
   "outputs": [
    {
     "name": "stdout",
     "output_type": "stream",
     "text": [
      "3 4\n"
     ]
    }
   ],
   "source": [
    "#find first and last position of elements in sorted array\n",
    "nums=[5,7,7,8,8,10]\n",
    "target=8\n",
    "x=[]\n",
    "for i in range(len(nums)):\n",
    "    if nums[i]==target:\n",
    "          x.append(i)\n",
    "print(x[0],x[-1])"
   ]
  },
  {
   "cell_type": "code",
   "execution_count": 3,
   "metadata": {},
   "outputs": [
    {
     "data": {
      "text/plain": [
       "[1, 2, 3, 4, 8, 9]"
      ]
     },
     "execution_count": 3,
     "metadata": {},
     "output_type": "execute_result"
    }
   ],
   "source": [
    "x=[4,3,8,2,9,1]\n",
    "x.sort()\n",
    "x"
   ]
  },
  {
   "cell_type": "code",
   "execution_count": 13,
   "metadata": {},
   "outputs": [],
   "source": [
    "#Your job is to create a function, that takes 3 numbers: a, b, c and returns True if the last digit of (the last digit of a * the last digit of b) = the last digit of c. Check examples for explanation.\n",
    "def func(a,b,c):\n",
    "    if ((a%10)*(b%10))%10==c%10:\n",
    "        print('True')\n",
    "    else:\n",
    "        print('False')\n",
    "def main():\n",
    "    c=func(23,13,129)\n",
    "    print(c)\n",
    "    \n",
    "   "
   ]
  },
  {
   "cell_type": "code",
   "execution_count": 15,
   "metadata": {},
   "outputs": [
    {
     "name": "stdout",
     "output_type": "stream",
     "text": [
      "3\n"
     ]
    }
   ],
   "source": [
    "#Create a function that takes in a list of intervals and returns how many intervals overlap with a given point.\n",
    "x=[[1, 2], [2, 3], [1, 3], [4, 5], [0, 1]]\n",
    "point=2\n",
    "count=0\n",
    "for i in x:\n",
    "    if min(i)<=point and max(i)>=point:\n",
    "        count+=1\n",
    "print(count)"
   ]
  },
  {
   "cell_type": "code",
   "execution_count": 21,
   "metadata": {},
   "outputs": [
    {
     "name": "stdout",
     "output_type": "stream",
     "text": [
      "Enter name:Norman\n",
      "Hi! I'm a guest\n"
     ]
    }
   ],
   "source": [
    "#Suppose you have a guest list of students and the country they are from, stored as key-value pairs in a dictionary.\n",
    "GUEST_LIST = {\n",
    "\"Randy\": \"Germany\",\n",
    "\"Karla\": \"France\",\n",
    "\"Wendy\": \"Japan\",\n",
    "\"Norman\": \"England\",\n",
    "\"Sam\": \"Argentina\"\n",
    "}\n",
    "name=input(\"Enter name:\")\n",
    "for key,values in GUEST_LIST:\n",
    "    if name==key:\n",
    "        print(\"Hi! I'm {}, and I'm from {}\".format(key,GUEST_LIST.value()))\n",
    "    else:\n",
    "        print(\"Hi! I'm a guest\")\n",
    "        \n",
    "    "
   ]
  },
  {
   "cell_type": "code",
   "execution_count": 46,
   "metadata": {},
   "outputs": [
    {
     "name": "stdout",
     "output_type": "stream",
     "text": [
      " \n",
      " \n",
      " \n",
      " \n",
      " \n",
      " \n"
     ]
    }
   ],
   "source": [
    "#Write a function that splits a string into substrings of size n, adding a specified delimiter between each of the pieces.\n",
    "x=\"bellow\"\n",
    "n=2\n",
    "y=\"&\"\n",
    "l=' '\n",
    "for i in range(0,len(x)):\n",
    "    l.join(x[i:i+2]+y)\n",
    "           print(l)  "
   ]
  },
  {
   "cell_type": "code",
   "execution_count": 48,
   "metadata": {},
   "outputs": [
    {
     "name": "stdout",
     "output_type": "stream",
     "text": [
      "[('Geeks', 10), ('for', 12), ('Geek', 31)]\n"
     ]
    }
   ],
   "source": [
    "#Convert dictionary to list of tuples\n",
    "k={ 'Geeks': 10, 'for': 12, 'Geek': 31 }\n",
    "print(list(k.items()))"
   ]
  },
  {
   "cell_type": "code",
   "execution_count": 67,
   "metadata": {},
   "outputs": [
    {
     "data": {
      "text/plain": [
       "[[2, 4], [4, 5], [7, 8], [4, 0]]"
      ]
     },
     "execution_count": 67,
     "metadata": {},
     "output_type": "execute_result"
    }
   ],
   "source": [
    "#Convert list of numerical string to list of Integers\n",
    "test_list = [['24'], ['45'], ['78'], ['40']]\n",
    "x=[]\n",
    "y=[]\n",
    "for i in test_list:\n",
    "    for j in i:\n",
    "        l=int(j)//10\n",
    "        p=int(j)%10\n",
    "        y=[l,p]\n",
    "        x.append(y)\n",
    "x"
   ]
  },
  {
   "cell_type": "code",
   "execution_count": 5,
   "metadata": {},
   "outputs": [
    {
     "name": "stdout",
     "output_type": "stream",
     "text": [
      "[0, 4, 4, 9, 81]\n"
     ]
    }
   ],
   "source": [
    "x=[-9, -2, 0, 2, 3]\n",
    "y=[]\n",
    "for i in x:\n",
    "    y.append(i**2)\n",
    "y.sort()\n",
    "print(y)"
   ]
  },
  {
   "cell_type": "code",
   "execution_count": 16,
   "metadata": {},
   "outputs": [
    {
     "data": {
      "text/plain": [
       "['here', 'world', 'hello']"
      ]
     },
     "execution_count": 16,
     "metadata": {},
     "output_type": "execute_result"
    }
   ],
   "source": [
    "v=\"hello/world/here\"\n",
    "x=v.split('/')\n",
    "x[::-1]"
   ]
  },
  {
   "cell_type": "code",
   "execution_count": 6,
   "metadata": {},
   "outputs": [
    {
     "name": "stdout",
     "output_type": "stream",
     "text": [
      "defaultdict(<class 'int'>, {2: 2, 4: 1, 6: 2, 8: 1, 10: 2})\n",
      "defaultdict(<class 'int'>, {2: 2, 4: 1, 6: 2, 8: 1, 10: 2})\n"
     ]
    }
   ],
   "source": [
    "from collections import defaultdict\n",
    "lst=[2, 4, 6, 8, 10, 2, 6, 10]\n",
    "d=defaultdict(int)\n",
    "for num in lst:\n",
    "    d[num]+=1\n",
    "for num,count in d.items():\n",
    "    if count==1:\n",
    "        print(d)\n",
    " \n",
    "    "
   ]
  },
  {
   "cell_type": "code",
   "execution_count": 3,
   "metadata": {},
   "outputs": [
    {
     "name": "stdout",
     "output_type": "stream",
     "text": [
      "20\n"
     ]
    }
   ],
   "source": [
    "a=[9,7,8,6,5,4]\n",
    "k=2\n",
    "count=1\n",
    "for i in range((len(a)-k),len(a)):\n",
    "    count*=a[i]\n",
    "print(count)"
   ]
  },
  {
   "cell_type": "code",
   "execution_count": 6,
   "metadata": {},
   "outputs": [
    {
     "data": {
      "text/plain": [
       "['the', 'day', 'is', 'sunny', 'the', 'the', 'the', 'sunny', 'is', 'is']"
      ]
     },
     "execution_count": 6,
     "metadata": {},
     "output_type": "execute_result"
    }
   ],
   "source": [
    "s='the day is sunny the the the sunny is is'\n",
    "w=s.strip().split(' ')\n",
    "str1=[]\n",
    "for i in w:\n",
    "    if i not in str1:\n",
    "        str1.append(i)\n",
    "for i in range(len(str1)):\n",
    "    "
   ]
  },
  {
   "cell_type": "code",
   "execution_count": null,
   "metadata": {},
   "outputs": [],
   "source": []
  }
 ],
 "metadata": {
  "kernelspec": {
   "display_name": "Python 3",
   "language": "python",
   "name": "python3"
  },
  "language_info": {
   "codemirror_mode": {
    "name": "ipython",
    "version": 3
   },
   "file_extension": ".py",
   "mimetype": "text/x-python",
   "name": "python",
   "nbconvert_exporter": "python",
   "pygments_lexer": "ipython3",
   "version": "3.6.5"
  }
 },
 "nbformat": 4,
 "nbformat_minor": 2
}
