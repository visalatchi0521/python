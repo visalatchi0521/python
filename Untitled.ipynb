{
 "cells": [
  {
   "cell_type": "markdown",
   "metadata": {},
   "source": [
    "$y = mx + b$\n"
   ]
  },
  {
   "cell_type": "markdown",
   "metadata": {},
   "source": [
    "$$\n",
    "y = \\frac{a}{b+c}\n",
    "$$"
   ]
  },
  {
   "cell_type": "code",
   "execution_count": 2,
   "metadata": {},
   "outputs": [],
   "source": [
    "import torch"
   ]
  },
  {
   "cell_type": "code",
   "execution_count": 3,
   "metadata": {},
   "outputs": [],
   "source": [
    "import numpy as np"
   ]
  },
  {
   "cell_type": "code",
   "execution_count": 25,
   "metadata": {},
   "outputs": [],
   "source": [
    "def sigmoid(x):\n",
    "    return 1/(1+(torch.exp(-x)))\n"
   ]
  },
  {
   "cell_type": "code",
   "execution_count": 10,
   "metadata": {},
   "outputs": [
    {
     "data": {
      "text/plain": [
       "tensor([[-0.1468,  0.7861,  0.9468, -1.1143,  1.6908]])"
      ]
     },
     "execution_count": 10,
     "metadata": {},
     "output_type": "execute_result"
    }
   ],
   "source": [
    "torch.manual_seed(7)\n",
    "features=torch.randn((1,5))\n",
    "features"
   ]
  },
  {
   "cell_type": "code",
   "execution_count": 11,
   "metadata": {},
   "outputs": [
    {
     "data": {
      "text/plain": [
       "tensor([[-0.8948, -0.3556,  1.2324,  0.1382, -1.6822]])"
      ]
     },
     "execution_count": 11,
     "metadata": {},
     "output_type": "execute_result"
    }
   ],
   "source": [
    "weights=torch.randn_like(features)\n",
    "weights"
   ]
  },
  {
   "cell_type": "code",
   "execution_count": 12,
   "metadata": {},
   "outputs": [
    {
     "data": {
      "text/plain": [
       "tensor([[0.3177]])"
      ]
     },
     "execution_count": 12,
     "metadata": {},
     "output_type": "execute_result"
    }
   ],
   "source": [
    "bias=torch.randn((1,1))\n",
    "bias"
   ]
  },
  {
   "cell_type": "code",
   "execution_count": 13,
   "metadata": {},
   "outputs": [
    {
     "data": {
      "text/plain": [
       "tensor([[0.1595]])"
      ]
     },
     "execution_count": 13,
     "metadata": {},
     "output_type": "execute_result"
    }
   ],
   "source": [
    "y=sigmoid(torch.mm(features,weights.view(5,1))+bias)\n",
    "y"
   ]
  },
  {
   "cell_type": "code",
   "execution_count": 14,
   "metadata": {},
   "outputs": [
    {
     "data": {
      "text/plain": [
       "tensor([[-0.1468,  0.7861,  0.9468]])"
      ]
     },
     "execution_count": 14,
     "metadata": {},
     "output_type": "execute_result"
    }
   ],
   "source": [
    "torch.manual_seed(7)\n",
    "inp=torch.randn((1,3))\n",
    "n_input=inp.shape[1]\n",
    "n_hidden=2\n",
    "n_output=1\n",
    "inp"
   ]
  },
  {
   "cell_type": "code",
   "execution_count": 22,
   "metadata": {},
   "outputs": [],
   "source": [
    "w1=torch.randn(n_input,n_hidden)\n",
    "w2=torch.randn(n_hidden,n_output)\n"
   ]
  },
  {
   "cell_type": "code",
   "execution_count": 23,
   "metadata": {},
   "outputs": [],
   "source": [
    "b1=torch.randn((1,n_hidden))\n",
    "b2=torch.randn((1,n_output))"
   ]
  },
  {
   "cell_type": "code",
   "execution_count": 30,
   "metadata": {},
   "outputs": [
    {
     "ename": "RuntimeError",
     "evalue": "size mismatch, m1: [1 x 3], m2: [1 x 2] at ..\\aten\\src\\TH/generic/THTensorMath.cpp:961",
     "output_type": "error",
     "traceback": [
      "\u001b[1;31m---------------------------------------------------------------------------\u001b[0m",
      "\u001b[1;31mRuntimeError\u001b[0m                              Traceback (most recent call last)",
      "\u001b[1;32m<ipython-input-30-c4cb1ea0e954>\u001b[0m in \u001b[0;36m<module>\u001b[1;34m()\u001b[0m\n\u001b[1;32m----> 1\u001b[1;33m \u001b[0mh\u001b[0m\u001b[1;33m=\u001b[0m\u001b[0msigmoid\u001b[0m\u001b[1;33m(\u001b[0m\u001b[0mtorch\u001b[0m\u001b[1;33m.\u001b[0m\u001b[0mmm\u001b[0m\u001b[1;33m(\u001b[0m\u001b[0minp\u001b[0m\u001b[1;33m,\u001b[0m\u001b[0mw1\u001b[0m\u001b[1;33m)\u001b[0m\u001b[1;33m+\u001b[0m\u001b[0mb1\u001b[0m\u001b[1;33m)\u001b[0m\u001b[1;33m\u001b[0m\u001b[0m\n\u001b[0m\u001b[0;32m      2\u001b[0m \u001b[0moutput\u001b[0m\u001b[1;33m=\u001b[0m\u001b[0msigmoid\u001b[0m\u001b[1;33m(\u001b[0m\u001b[0mtorch\u001b[0m\u001b[1;33m.\u001b[0m\u001b[0mmm\u001b[0m\u001b[1;33m(\u001b[0m\u001b[0mh\u001b[0m\u001b[1;33m,\u001b[0m\u001b[0mw2\u001b[0m\u001b[1;33m)\u001b[0m\u001b[1;33m+\u001b[0m\u001b[0mb2\u001b[0m\u001b[1;33m)\u001b[0m\u001b[1;33m\u001b[0m\u001b[0m\n\u001b[0;32m      3\u001b[0m \u001b[0moutput\u001b[0m\u001b[1;33m\u001b[0m\u001b[0m\n",
      "\u001b[1;31mRuntimeError\u001b[0m: size mismatch, m1: [1 x 3], m2: [1 x 2] at ..\\aten\\src\\TH/generic/THTensorMath.cpp:961"
     ]
    }
   ],
   "source": [
    "h=sigmoid(torch.mm(inp,w1)+b1)\n",
    "output=sigmoid(torch.mm(h,w2)+b2)\n",
    "output"
   ]
  },
  {
   "cell_type": "code",
   "execution_count": 5,
   "metadata": {},
   "outputs": [],
   "source": [
    "a=np.random.rand(4,3)\n"
   ]
  },
  {
   "cell_type": "code",
   "execution_count": 10,
   "metadata": {},
   "outputs": [],
   "source": [
    "b=torch.from_numpy(a)"
   ]
  },
  {
   "cell_type": "code",
   "execution_count": 12,
   "metadata": {},
   "outputs": [
    {
     "data": {
      "text/plain": [
       "array([[0.93887651, 0.23426415, 0.34114068],\n",
       "       [0.13455961, 0.99442443, 0.09509779],\n",
       "       [0.34352472, 0.27632788, 0.86221921],\n",
       "       [0.51780289, 0.79185277, 0.68155158]])"
      ]
     },
     "execution_count": 12,
     "metadata": {},
     "output_type": "execute_result"
    }
   ],
   "source": [
    "b.numpy()"
   ]
  },
  {
   "cell_type": "code",
   "execution_count": 14,
   "metadata": {},
   "outputs": [
    {
     "data": {
      "text/plain": [
       "tensor([[1.8778, 0.4685, 0.6823],\n",
       "        [0.2691, 1.9888, 0.1902],\n",
       "        [0.6870, 0.5527, 1.7244],\n",
       "        [1.0356, 1.5837, 1.3631]], dtype=torch.float64)"
      ]
     },
     "execution_count": 14,
     "metadata": {},
     "output_type": "execute_result"
    }
   ],
   "source": [
    "b.mul(2)"
   ]
  },
  {
   "cell_type": "code",
   "execution_count": 15,
   "metadata": {},
   "outputs": [
    {
     "data": {
      "text/plain": [
       "array([[0.93887651, 0.23426415, 0.34114068],\n",
       "       [0.13455961, 0.99442443, 0.09509779],\n",
       "       [0.34352472, 0.27632788, 0.86221921],\n",
       "       [0.51780289, 0.79185277, 0.68155158]])"
      ]
     },
     "execution_count": 15,
     "metadata": {},
     "output_type": "execute_result"
    }
   ],
   "source": [
    "a"
   ]
  },
  {
   "cell_type": "code",
   "execution_count": 17,
   "metadata": {},
   "outputs": [],
   "source": [
    "def softmax(x):\n",
    "    return torch.exp(x)/torch.sum(torch.exp(x),dim=1).view(-1,1)"
   ]
  },
  {
   "cell_type": "code",
   "execution_count": 26,
   "metadata": {},
   "outputs": [
    {
     "data": {
      "text/plain": [
       "tensor([1.0000, 1.0000, 1.0000, 1.0000, 1.0000, 1.0000, 1.0000, 1.0000, 1.0000,\n",
       "        1.0000])"
      ]
     },
     "execution_count": 26,
     "metadata": {},
     "output_type": "execute_result"
    }
   ],
   "source": [
    "features=torch.randn((10,64))\n",
    "weight=torch.randn_like(features)\n",
    "bias=torch.randn((1,1))\n",
    "x=softmax(torch.mm(features,weight.view(64,10))+bias)\n",
    "x.sum(dim=1)"
   ]
  },
  {
   "cell_type": "code",
   "execution_count": 26,
   "metadata": {},
   "outputs": [
    {
     "name": "stdout",
     "output_type": "stream",
     "text": [
      "1 2\n",
      "njdncjc\n"
     ]
    }
   ],
   "source": [
    "l=[13,15,5,6,32,45,1,2]\n",
    "for i in range(len(l)):\n",
    "    for j in range(i,len(l)):\n",
    "        if l[i]+l[j]==3:\n",
    "            print(l[i],l[j])\n",
    "\n",
    "            \n",
    "                "
   ]
  },
  {
   "cell_type": "code",
   "execution_count": 34,
   "metadata": {},
   "outputs": [
    {
     "data": {
      "text/plain": [
       "10"
      ]
     },
     "execution_count": 34,
     "metadata": {},
     "output_type": "execute_result"
    }
   ],
   "source": [
    "x=[1,2,3,4]\n",
    "k=6\n",
    "y=sum(x)-k\n",
    "if y in (x,: "
   ]
  },
  {
   "cell_type": "code",
   "execution_count": null,
   "metadata": {},
   "outputs": [],
   "source": [
    "x=[1,2,3,4]\n"
   ]
  },
  {
   "cell_type": "code",
   "execution_count": 4,
   "metadata": {},
   "outputs": [
    {
     "name": "stdout",
     "output_type": "stream",
     "text": [
      "Crowded\n"
     ]
    }
   ],
   "source": [
    "crowd=600\n",
    "if (crowd > 500):\n",
    "    print(\"Crowded\")\n",
    "elif (crowd < 5):\n",
    "    print(\"Empty\")\n",
    "else:\n",
    "     print(\"Okay\")"
   ]
  },
  {
   "cell_type": "code",
   "execution_count": 1,
   "metadata": {},
   "outputs": [],
   "source": [
    "def mapper():\n",
    "    for line in sys.stdin:\n",
    "        data=line.strip().split('\\t')\n",
    "        if len(data)==6:\n",
    "            print('{0}\\t{1}'.format(store,cost))"
   ]
  },
  {
   "cell_type": "code",
   "execution_count": 24,
   "metadata": {},
   "outputs": [
    {
     "data": {
      "text/plain": [
       "[3, 8, 2, 9, 3, 3, 6, 7]"
      ]
     },
     "execution_count": 24,
     "metadata": {},
     "output_type": "execute_result"
    }
   ],
   "source": [
    "\n",
    "x=38293367\n",
    "y=[int(i) for i in str(x)]\n",
    "y"
   ]
  },
  {
   "cell_type": "code",
   "execution_count": 25,
   "metadata": {},
   "outputs": [
    {
     "data": {
      "text/plain": [
       "[3, 9, 2, 8, 3, 3, 6, 7]"
      ]
     },
     "execution_count": 25,
     "metadata": {},
     "output_type": "execute_result"
    }
   ],
   "source": [
    "\n",
    "y[1],y[3]=y[3],y[1]\n",
    "y"
   ]
  },
  {
   "cell_type": "code",
   "execution_count": 27,
   "metadata": {},
   "outputs": [
    {
     "name": "stdout",
     "output_type": "stream",
     "text": [
      "98336732\n"
     ]
    }
   ],
   "source": [
    "for j in range(len(y)-1):\n",
    "    if y[j+1]>y[j]:\n",
    "        y[j+1],y[j]=y[j],y[j+1]\n",
    "    else:\n",
    "        continue\n",
    "print(int(\"\".join(map(str,y))))"
   ]
  },
  {
   "cell_type": "code",
   "execution_count": 34,
   "metadata": {},
   "outputs": [
    {
     "data": {
      "text/plain": [
       "[2, 4, 6, 8]"
      ]
     },
     "execution_count": 34,
     "metadata": {},
     "output_type": "execute_result"
    }
   ],
   "source": [
    "#map\n",
    "numbers=(1,2,3,4)\n",
    "list(map(lambda x: x+x,numbers))"
   ]
  },
  {
   "cell_type": "code",
   "execution_count": 40,
   "metadata": {},
   "outputs": [
    {
     "name": "stdout",
     "output_type": "stream",
     "text": [
      "1 5\n",
      "7 -1\n"
     ]
    }
   ],
   "source": [
    "x=[1,5,7,-1]\n",
    "n=6\n",
    "for i in range(len(x)):\n",
    "    for j in range(i+1,len(x)):\n",
    "        if x[i]+x[j]==n:\n",
    "            print(x[i],x[j])\n",
    "\n",
    "                "
   ]
  },
  {
   "cell_type": "code",
   "execution_count": 42,
   "metadata": {},
   "outputs": [
    {
     "data": {
      "text/plain": [
       "[1, 5, -1, 7]"
      ]
     },
     "execution_count": 42,
     "metadata": {},
     "output_type": "execute_result"
    }
   ],
   "source": [
    "x={1,5,-1,7}\n",
    "list(x)"
   ]
  },
  {
   "cell_type": "code",
   "execution_count": null,
   "metadata": {},
   "outputs": [],
   "source": [
    "#Given two integers N and M, the task is to find the count of possible sequences a1, a2, … of length N such that the product of all the elements of the sequence is M\n",
    "N=2\n",
    "M=6\n",
    "\n",
    "p=1\n",
    "while N<M:\n",
    "    for i in range(0,N):\n",
    "        p=p*i\n",
    "        \n",
    "    print(p)\n",
    "    N=N+1   "
   ]
  },
  {
   "cell_type": "code",
   "execution_count": 15,
   "metadata": {},
   "outputs": [
    {
     "name": "stdout",
     "output_type": "stream",
     "text": [
      "1 1\n",
      "2 2\n",
      "3 6\n",
      "4 24\n",
      "5 120\n",
      "1 120\n",
      "2 240\n",
      "3 720\n",
      "4 2880\n",
      "5 14400\n"
     ]
    }
   ],
   "source": [
    "p=1\n",
    "N=2\n",
    "M=6\n",
    "for j in range(1,N+1):\n",
    "    for i in range(1,M):\n",
    "        p=p*i\n",
    "        print(i,p)"
   ]
  },
  {
   "cell_type": "code",
   "execution_count": 21,
   "metadata": {},
   "outputs": [
    {
     "name": "stdout",
     "output_type": "stream",
     "text": [
      "1 1 1 1\n",
      "1 1 2 2\n",
      "1 1 3 3\n",
      "1 1 4 4\n",
      "1 1 5 5\n",
      "1 1 6 6\n",
      "1 2 2 4\n",
      "1 2 3 6\n",
      "1 2 4 8\n",
      "1 2 5 10\n",
      "1 2 6 12\n",
      "1 3 3 9\n",
      "1 3 4 12\n",
      "1 3 5 15\n",
      "1 3 6 18\n",
      "1 4 4 16\n",
      "1 4 5 20\n",
      "1 4 6 24\n",
      "1 5 5 25\n",
      "1 5 6 30\n",
      "1 6 6 36\n",
      "2 2 2 8\n",
      "2 2 3 12\n",
      "2 2 4 16\n",
      "2 2 5 20\n",
      "2 2 6 24\n",
      "2 3 3 18\n",
      "2 3 4 24\n",
      "2 3 5 30\n",
      "2 3 6 36\n",
      "2 4 4 32\n",
      "2 4 5 40\n",
      "2 4 6 48\n",
      "2 5 5 50\n",
      "2 5 6 60\n",
      "2 6 6 72\n",
      "3 3 3 27\n",
      "3 3 4 36\n",
      "3 3 5 45\n",
      "3 3 6 54\n",
      "3 4 4 48\n",
      "3 4 5 60\n",
      "3 4 6 72\n",
      "3 5 5 75\n",
      "3 5 6 90\n",
      "3 6 6 108\n",
      "4 4 4 64\n",
      "4 4 5 80\n",
      "4 4 6 96\n",
      "4 5 5 100\n",
      "4 5 6 120\n",
      "4 6 6 144\n",
      "5 5 5 125\n",
      "5 5 6 150\n",
      "5 6 6 180\n",
      "6 6 6 216\n"
     ]
    }
   ],
   "source": [
    "p=1\n",
    "N=2\n",
    "M=6\n",
    "count=0\n",
    "for i in range(1,M+1):\n",
    "    for j in range(i,M+1):\n",
    "        for k in range(j,M+1):\n",
    "            print(i,j,k,i*j*k)"
   ]
  },
  {
   "cell_type": "code",
   "execution_count": 14,
   "metadata": {},
   "outputs": [
    {
     "name": "stdout",
     "output_type": "stream",
     "text": [
      "[1, 1, 2, 1, 0]\n"
     ]
    }
   ],
   "source": [
    "#For example, given the array [3, 4, 9, 6, 1], return [1, 1, 2, 1, 0], since:\n",
    "A=[3,4,9,6,1]   \n",
    "result=[]\n",
    "for i, num in enumerate(A):\n",
    "    count=sum(val<num for val in A[i+1:])\n",
    "    result.append(count) \n",
    "print(result)"
   ]
  },
  {
   "cell_type": "code",
   "execution_count": 29,
   "metadata": {},
   "outputs": [
    {
     "name": "stdout",
     "output_type": "stream",
     "text": [
      "4\n"
     ]
    }
   ],
   "source": [
    "#printing only digits from string\n",
    "string= \"rfrtfc894cnf4n4\"\n",
    "for i in string:\n",
    "    if i.isdigit():\n",
    "        res=int(\"\".join(map(str,i)))\n",
    "print(res)"
   ]
  },
  {
   "cell_type": "code",
   "execution_count": 1,
   "metadata": {},
   "outputs": [
    {
     "ename": "IndexError",
     "evalue": "list index out of range",
     "output_type": "error",
     "traceback": [
      "\u001b[1;31m---------------------------------------------------------------------------\u001b[0m",
      "\u001b[1;31mIndexError\u001b[0m                                Traceback (most recent call last)",
      "\u001b[1;32m<ipython-input-1-bdad21055e28>\u001b[0m in \u001b[0;36m<module>\u001b[1;34m()\u001b[0m\n\u001b[0;32m      5\u001b[0m    \u001b[1;32mfor\u001b[0m \u001b[0mj\u001b[0m \u001b[1;32min\u001b[0m \u001b[0mrange\u001b[0m\u001b[1;33m(\u001b[0m\u001b[1;36m2\u001b[0m\u001b[1;33m,\u001b[0m\u001b[0mx\u001b[0m\u001b[1;33m+\u001b[0m\u001b[1;36m1\u001b[0m\u001b[1;33m)\u001b[0m\u001b[1;33m:\u001b[0m\u001b[1;33m\u001b[0m\u001b[0m\n\u001b[0;32m      6\u001b[0m        \u001b[1;32mif\u001b[0m \u001b[0mi\u001b[0m\u001b[1;33m*\u001b[0m\u001b[0mj\u001b[0m\u001b[1;33m==\u001b[0m\u001b[0mx\u001b[0m\u001b[1;33m:\u001b[0m\u001b[1;33m\u001b[0m\u001b[0m\n\u001b[1;32m----> 7\u001b[1;33m            \u001b[0my\u001b[0m\u001b[1;33m[\u001b[0m\u001b[0mi\u001b[0m\u001b[1;33m]\u001b[0m\u001b[1;33m.\u001b[0m\u001b[0mappend\u001b[0m\u001b[1;33m(\u001b[0m\u001b[0mj\u001b[0m\u001b[1;33m)\u001b[0m\u001b[1;33m\u001b[0m\u001b[0m\n\u001b[0m\u001b[0;32m      8\u001b[0m \u001b[0mprint\u001b[0m\u001b[1;33m(\u001b[0m\u001b[0my\u001b[0m\u001b[1;33m)\u001b[0m\u001b[1;33m\u001b[0m\u001b[0m\n",
      "\u001b[1;31mIndexError\u001b[0m: list index out of range"
     ]
    }
   ],
   "source": [
    " #GCD\n",
    "x=65\n",
    "y=[[]]\n",
    "for i in range(1,x+1):\n",
    "    for j in range(2,x+1):\n",
    "        if i*j==x:\n",
    "            y[i].append(j)\n",
    "print(y)"
   ]
  },
  {
   "cell_type": "code",
   "execution_count": null,
   "metadata": {},
   "outputs": [],
   "source": [
    "denominations=[1,5,10,15]\n",
    "def min_coins(n):\n",
    "    if n==0:\n",
    "        return 0\n",
    "    elif n in denominations:\n",
    "         return 1\n",
    "    else:\n",
    "        return min(1+min_coins(n-d) for d in denominations)\n",
    "\n",
    "print(min_coins(26))"
   ]
  },
  {
   "cell_type": "code",
   "execution_count": null,
   "metadata": {},
   "outputs": [],
   "source": [
    "lst=[1,2,3,4,5,6,7,8,9,10]\n",
    "i=2\n",
    "j=9\n",
    "whilei<j:\n",
    "     for k in range(i,j+1):\n",
    "            lst    "
   ]
  },
  {
   "cell_type": "code",
   "execution_count": 1,
   "metadata": {},
   "outputs": [
    {
     "name": "stdout",
     "output_type": "stream",
     "text": [
      "3 3 4 5 5 5 6 \n"
     ]
    }
   ],
   "source": [
    "array = [1, 2, 3, 1, 4, 5, 2, 3, 6]\n",
    "A = 3\n",
    "start=0\n",
    "end=3\n",
    "output=\"\"\n",
    "while end<=len(array):\n",
    "    output+=str(max(array[start:end]))+' '\n",
    "    start+=1\n",
    "    end+=1\n",
    "print(output)"
   ]
  },
  {
   "cell_type": "code",
   "execution_count": null,
   "metadata": {},
   "outputs": [],
   "source": [
    "string=\"A man nama\"\n",
    "str1=\"\"\n",
    "for x in string:\n",
    "    if x.ischar():\n",
    "        str1.join(x)\n"
   ]
  },
  {
   "cell_type": "code",
   "execution_count": null,
   "metadata": {},
   "outputs": [],
   "source": [
    "#Longest Substring with At Least K Repeating Characters\n",
    "str1=\"aaabb\"\n",
    "k=3\n",
    "s=[]\n",
    "count=0\n",
    "for i in range(len(str1)):\n",
    "    for j in range(i+1,len(str1)):\n",
    "        if str1[i]!=str1[i+1] and str1[i]==str1[j]:\n",
    "            count=count+1\n",
    "            print(count)\n"
   ]
  },
  {
   "cell_type": "code",
   "execution_count": null,
   "metadata": {},
   "outputs": [],
   "source": []
  }
 ],
 "metadata": {
  "kernelspec": {
   "display_name": "Python 3",
   "language": "python",
   "name": "python3"
  },
  "language_info": {
   "codemirror_mode": {
    "name": "ipython",
    "version": 3
   },
   "file_extension": ".py",
   "mimetype": "text/x-python",
   "name": "python",
   "nbconvert_exporter": "python",
   "pygments_lexer": "ipython3",
   "version": "3.6.5"
  }
 },
 "nbformat": 4,
 "nbformat_minor": 2
}
